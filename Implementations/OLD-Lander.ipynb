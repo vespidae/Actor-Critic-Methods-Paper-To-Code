{
 "cells": [
  {
   "cell_type": "code",
   "execution_count": 1,
   "id": "3e524240-c789-447e-8c10-919b3dc66868",
   "metadata": {},
   "outputs": [
    {
     "name": "stderr",
     "output_type": "stream",
     "text": [
      "C:\\Python39\\lib\\site-packages\\numpy\\_distributor_init.py:30: UserWarning: loaded more than 1 DLL from .libs:\n",
      "C:\\Python39\\lib\\site-packages\\numpy\\.libs\\libopenblas.QVLO2T66WEPI7JZ63PS3HMOHFEY472BC.gfortran-win_amd64.dll\n",
      "C:\\Python39\\lib\\site-packages\\numpy\\.libs\\libopenblas.XWYDX2IKJW2NMTWSFYNGFUWKQU3LYTCZ.gfortran-win_amd64.dll\n",
      "  warnings.warn(\"loaded more than 1 DLL from .libs:\"\n"
     ]
    }
   ],
   "source": [
    "import gym"
   ]
  },
  {
   "cell_type": "markdown",
   "id": "5497fece-54c8-44b5-947f-755bab1a74fb",
   "metadata": {},
   "source": [
    "env = gym.make('LunarLander-v2')\n",
    "\n",
    "n_games = 100\n",
    "\n",
    "for i in range(n_games):\n",
    "    obs_nul = env.reset()\n",
    "    score = 0\n",
    "    done = False\n",
    "    while not done:\n",
    "        action = env.action_space.sample()\n",
    "        obs_prime, reward, done, info = env.step(action)\n",
    "        score += reward\n",
    "        env.render()\n",
    "    print(\"Episode: {}\\t Reward:{}\".format(i,score))"
   ]
  },
  {
   "cell_type": "code",
   "execution_count": 4,
   "id": "6ec2dfe3-06e6-4453-bba3-c0e35cdf91dd",
   "metadata": {},
   "outputs": [],
   "source": [
    "import torch\n",
    "from torch import nn"
   ]
  },
  {
   "cell_type": "code",
   "execution_count": null,
   "id": "ae766996-acf7-41b2-8535-14b7b8e37798",
   "metadata": {},
   "outputs": [],
   "source": [
    "class QAgent(nn.Module):\n",
    "    def __init__(self, input):\n",
    "        self.hidden = nn.LazyLinear(out_features=128)\n",
    "        self.output = nn.Softmax2d()"
   ]
  }
 ],
 "metadata": {
  "kernelspec": {
   "display_name": "Python 3 (ipykernel)",
   "language": "python",
   "name": "python3"
  },
  "language_info": {
   "codemirror_mode": {
    "name": "ipython",
    "version": 3
   },
   "file_extension": ".py",
   "mimetype": "text/x-python",
   "name": "python",
   "nbconvert_exporter": "python",
   "pygments_lexer": "ipython3",
   "version": "3.9.7"
  }
 },
 "nbformat": 4,
 "nbformat_minor": 5
}
