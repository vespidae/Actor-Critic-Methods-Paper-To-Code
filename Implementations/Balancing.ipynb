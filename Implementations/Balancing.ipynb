{
 "cells": [
  {
   "cell_type": "code",
   "execution_count": 1,
   "metadata": {},
   "outputs": [],
   "source": [
    "import numpy as np\n",
    "import gym"
   ]
  },
  {
   "cell_type": "markdown",
   "metadata": {},
   "source": [
    "def simple_policy(state):\n",
    "    action = 0 if state < 5 else 1\n",
    "    return action"
   ]
  },
  {
   "cell_type": "markdown",
   "metadata": {},
   "source": [
    "env = gym.make('CartPole-v0')\n",
    "alpha = 0.1\n",
    "gamma = 0.99\n",
    "\n",
    "state_space = np.linspace(-0.2094, 0.2094, 10)\n",
    "V = {}\n",
    "for state in range(len(state_space)+1):\n",
    "    V[state] = 0\n",
    "    \n",
    "for i in range(5000):\n",
    "    state_null = env.reset()\n",
    "    done = False\n",
    "    while not done:\n",
    "        state = int(np.digitize(state_null[2], state_space))\n",
    "        action = simple_policy(state)\n",
    "        state_prime, reward, done, info = env.step(action)\n",
    "        digitized_state_prime = int(np.digitize(state_prime[2], state_space))\n",
    "        V[state] = V[state] + alpha*(reward + gamma*V[digitized_state_prime] - V[state])\n",
    "        state_null = state_prime\n",
    "        \n",
    "for state in V:\n",
    "    print(\"state: {}\\t->\\tV[state]: {}\".format(state,V[state]))"
   ]
  },
  {
   "cell_type": "code",
   "execution_count": 2,
   "metadata": {},
   "outputs": [],
   "source": [
    "class QAgent():\n",
    "    def __init__(self, lr, gamma, n_actions, state_space, \\\n",
    "                 epsilon, epsilon_end, epsilon_dec):\n",
    "        #learning rate (a.k.a. alpha)\n",
    "        self.lr, self.gamma, self.n_actions = lr, gamma, n_actions\n",
    "        \n",
    "        self.epsilon, self.epsilon_end, self.epsilon_dec = \\\n",
    "            epsilon, epsilon_end, epsilon_dec\n",
    "        \n",
    "        self.state_space = state_space\n",
    "        self.action_space = [i for i in range(self.n_actions)]\n",
    "        \n",
    "        self.Q = {}\n",
    "        \n",
    "        self.init_Q()\n",
    "        \n",
    "    def init_Q(self):\n",
    "        for state in self.state_space:\n",
    "            for action in self.action_space:\n",
    "                self.Q[(state, action)] = 0.0\n",
    "                \n",
    "    def max_action(self, state):\n",
    "        actions = np.array([self.Q[state, a] for a in self.action_space])\n",
    "        action = np.argmax(actions)\n",
    "        \n",
    "        return action\n",
    "\n",
    "    def choose_action(self, state):\n",
    "        if np.random.random() < self.epsilon:\n",
    "            action = np.random.choice(self.action_space)\n",
    "        else:\n",
    "            action = self.max_action(state)\n",
    "            \n",
    "        return action\n",
    "        \n",
    "    def decrement_epsilon(self):\n",
    "        self.epsilon = self.epsilon - self.epsilon_dec if self.epsilon > self.epsilon_end \\\n",
    "            else self.epsilon_end\n",
    "        \n",
    "    #update estimate Q\n",
    "    def learn(self, state_null, action, reward, state_prime):\n",
    "#         print(\"state_null: {}\".format(state_null))\n",
    "#         print(\"state_prime: {}\".format(state_prime))\n",
    "#         print(\"action: {}\".format(action))\n",
    "        \n",
    "        a_max = self.max_action(state_prime)\n",
    "        \n",
    "        self.Q[(state_null, action)] = self.Q[(state_null, action)] + self.lr * \\\n",
    "            (reward + self.gamma * self.Q[(state_null, a_max)]) - \\\n",
    "            self.Q[(state_null, action)]"
   ]
  },
  {
   "cell_type": "code",
   "execution_count": 3,
   "metadata": {},
   "outputs": [],
   "source": [
    "import matplotlib.pyplot as plt\n",
    "import numpy as np"
   ]
  },
  {
   "cell_type": "code",
   "execution_count": 4,
   "metadata": {},
   "outputs": [],
   "source": [
    "class CartPoleStateDigitizer():\n",
    "    def __init__(self, bounds=(2.4,4,0.209,4), n_bins=10):\n",
    "        bound_names = [\"position\",\"velocity\",\"pole_angle_space\",\"pole_velocity\"]\n",
    "        #set bounds for each state space\n",
    "        self.state_subspaces = {b: np.linspace(-1*bounds[i], bounds[i], n_bins) for i,b in \\\n",
    "                                enumerate(bound_names)}\n",
    "        self.states = self.get_state_space()\n",
    "        \n",
    "    def get_state_space(self):\n",
    "        states = []\n",
    "        for i in range(len(self.state_subspaces[\"position\"])+1):\n",
    "            for j in range(len(self.state_subspaces[\"velocity\"])+1):\n",
    "                for k in range(len(self.state_subspaces[\"pole_angle_space\"])+1):\n",
    "                    for l in range(len(self.state_subspaces[\"pole_velocity\"])+1):\n",
    "                        states.append((i,j,k,l))\n",
    "        return states\n",
    "    \n",
    "    def digitize(self, observation):\n",
    "        # x position, x velocity, angle, angle velocity\n",
    "        bound_names = [\"position\",\"velocity\",\"pole_angle_space\",\"pole_velocity\"]\n",
    "        zipped_states = zip(bound_names,[o for o in observation])\n",
    "#         print(zipped_states)\n",
    "#         x, x_dot, theta, theta_dot = observation\n",
    "        cart = {b: int(np.digitize(o, self.state_subspaces[b])) for b,o in zipped_states}\n",
    "#         print(tuple(cart.values()))\n",
    "    \n",
    "        return tuple(cart.values())\n",
    "    \n",
    "def plot_learning_curve(scores, x):\n",
    "    running_average = np.zeros(len(scores))\n",
    "    for i in range(len(running_average)):\n",
    "        running_average[i] = np.mean(scores[max(0,i-100):(i+1)])\n",
    "    plt.plot(x, running_average)\n",
    "    plt.title('Running Average of Previous 100 Scores')\n",
    "    plt.show()"
   ]
  },
  {
   "cell_type": "markdown",
   "metadata": {},
   "source": [
    "CPS = CartPoleStateDigitization()\n",
    "print(type(CPS.state_subspaces))\n",
    "print(CPS.state_subspaces)"
   ]
  },
  {
   "cell_type": "code",
   "execution_count": 5,
   "metadata": {},
   "outputs": [
    {
     "name": "stdout",
     "output_type": "stream",
     "text": [
      "Episode: 0\tScore: 18.0\tEpsilon: 1.0\n",
      "Episode: 5000\tScore: 18.0\tEpsilon: 0.7999999999998\n",
      "Episode: 10000\tScore: 15.0\tEpsilon: 0.5999999999996\n",
      "Episode: 15000\tScore: 40.0\tEpsilon: 0.3999999999995388\n",
      "Episode: 20000\tScore: 11.0\tEpsilon: 0.1999999999995816\n",
      "Episode: 25000\tScore: 45.0\tEpsilon: 0.01\n",
      "Episode: 30000\tScore: 19.0\tEpsilon: 0.01\n",
      "Episode: 35000\tScore: 32.0\tEpsilon: 0.01\n",
      "Episode: 40000\tScore: 28.0\tEpsilon: 0.01\n",
      "Episode: 45000\tScore: 34.0\tEpsilon: 0.01\n"
     ]
    },
    {
     "data": {
      "image/png": "[encoded data removed]",
      "text/plain": [
       "<Figure size 432x288 with 1 Axes>"
      ]
     },
     "metadata": {
      "needs_background": "light"
     },
     "output_type": "display_data"
    }
   ],
   "source": [
    "env = gym.make('CartPole-v0')\n",
    "n_games = 50000\n",
    "eps_dec = 2 / n_games\n",
    "digitizer = CartPoleStateDigitizer()\n",
    "agent = QAgent(lr=0.01, gamma=0.99, n_actions=2, \\\n",
    "               epsilon=1.0, epsilon_end=0.01, epsilon_dec=eps_dec, \\\n",
    "               state_space=digitizer.states)\n",
    "\n",
    "scores = []\n",
    "for i in range(n_games):\n",
    "    observation_null = env.reset()\n",
    "    done = False\n",
    "    score = 0\n",
    "    state_null = digitizer.digitize(observation_null)\n",
    "\n",
    "    while not done:\n",
    "        action = agent.choose_action(state_null)\n",
    "        observation_prime, reward, done, info = env.step(action)\n",
    "        state_prime = digitizer.digitize(observation_prime)\n",
    "        agent.learn(state_null, action, reward, state_prime)\n",
    "        state_null = state_prime\n",
    "        score += reward\n",
    "        \n",
    "    if i % 5000 == 0:\n",
    "        print(\"Episode: {}\\tScore: {}\\tEpsilon: {}\".format(i,score,agent.epsilon))\n",
    "        \n",
    "    agent.decrement_epsilon()\n",
    "    scores.append(score)\n",
    "    \n",
    "x = [i+1 for i in range(n_games)]\n",
    "plot_learning_curve(scores, x)"
   ]
  },
  {
   "cell_type": "code",
   "execution_count": null,
   "metadata": {},
   "outputs": [],
   "source": []
  },
  {
   "cell_type": "code",
   "execution_count": null,
   "metadata": {},
   "outputs": [],
   "source": []
  }
 ],
 "metadata": {
  "kernelspec": {
   "display_name": "Python 3",
   "language": "python",
   "name": "python3"
  },
  "language_info": {
   "codemirror_mode": {
    "name": "ipython",
    "version": 3
   },
   "file_extension": ".py",
   "mimetype": "text/x-python",
   "name": "python",
   "nbconvert_exporter": "python",
   "pygments_lexer": "ipython3",
   "version": "3.7.3"
  }
 },
 "nbformat": 4,
 "nbformat_minor": 5
}
