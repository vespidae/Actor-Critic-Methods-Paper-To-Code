{
 "cells": [
  {
   "cell_type": "code",
   "execution_count": 1,
   "id": "e02773d9-fdf2-4f4a-bbf9-d461e72f14f5",
   "metadata": {},
   "outputs": [],
   "source": [
    "import numpy as np\n",
    "import gym"
   ]
  },
  {
   "cell_type": "code",
   "execution_count": 2,
   "id": "1b724e89-fa4b-4752-8658-bbd37979b0b3",
   "metadata": {},
   "outputs": [],
   "source": [
    "def simple_policy(state):\n",
    "    action = 0 if state < 5 else 1\n",
    "    return action"
   ]
  },
  {
   "cell_type": "code",
   "execution_count": 7,
   "id": "c4df9711-e58a-4b14-833e-426cd3f292ef",
   "metadata": {},
   "outputs": [
    {
     "name": "stdout",
     "output_type": "stream",
     "text": [
      "state: 0\t->\tV[state]: 1.848861272838194\n",
      "state: 1\t->\tV[state]: 7.162209508513444\n",
      "state: 2\t->\tV[state]: 15.041308592133431\n",
      "state: 3\t->\tV[state]: 22.804810867510746\n",
      "state: 4\t->\tV[state]: 27.52725894685405\n",
      "state: 5\t->\tV[state]: 31.005076676135413\n",
      "state: 6\t->\tV[state]: 33.13755733464949\n",
      "state: 7\t->\tV[state]: 32.53450777151769\n",
      "state: 8\t->\tV[state]: 28.873790895854412\n",
      "state: 9\t->\tV[state]: 19.8979467126727\n",
      "state: 10\t->\tV[state]: 0.19990000000000002\n"
     ]
    }
   ],
   "source": [
    "env = gym.make('CartPole-v0')\n",
    "alpha = 0.1\n",
    "gamma = 0.99\n",
    "\n",
    "state_space = np.linspace(-0.2094, 0.2094, 10)\n",
    "V = {}\n",
    "for state in range(len(state_space)+1):\n",
    "    V[state] = 0\n",
    "    \n",
    "for i in range(5000):\n",
    "    state_null = env.reset()\n",
    "    done = False\n",
    "    while not done:\n",
    "        state = int(np.digitize(state_null[2], state_space))\n",
    "        action = simple_policy(state)\n",
    "        state_prime, reward, done, info = env.step(action)\n",
    "        digitized_state_prime = int(np.digitize(state_prime[2], state_space))\n",
    "        V[state] = V[state] + alpha*(reward + gamma*V[digitized_state_prime] - V[state])\n",
    "        state_null = state_prime\n",
    "        \n",
    "for state in V:\n",
    "    print(\"state: {}\\t->\\tV[state]: {}\".format(state,V[state]))"
   ]
  },
  {
   "cell_type": "code",
   "execution_count": null,
   "id": "997d35f4-6750-4d55-ba97-20c19b630ac4",
   "metadata": {},
   "outputs": [],
   "source": [
    "class QAgent():\n",
    "    def __init__(self, alpha=0.1, gamma=0.99, start_space, eps_start, eps_end, eps_dec):"
   ]
  }
 ],
 "metadata": {
  "kernelspec": {
   "display_name": "Python 3",
   "language": "python",
   "name": "python3"
  },
  "language_info": {
   "codemirror_mode": {
    "name": "ipython",
    "version": 3
   },
   "file_extension": ".py",
   "mimetype": "text/x-python",
   "name": "python",
   "nbconvert_exporter": "python",
   "pygments_lexer": "ipython3",
   "version": "3.9.7"
  }
 },
 "nbformat": 4,
 "nbformat_minor": 5
}
