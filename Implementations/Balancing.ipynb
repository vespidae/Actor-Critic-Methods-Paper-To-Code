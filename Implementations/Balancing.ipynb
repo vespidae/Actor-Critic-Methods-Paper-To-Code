{
 "cells": [
  {
   "cell_type": "code",
   "execution_count": null,
   "id": "e02773d9-fdf2-4f4a-bbf9-d461e72f14f5",
   "metadata": {},
   "outputs": [],
   "source": []
  },
  {
   "cell_type": "code",
   "execution_count": null,
   "id": "c4df9711-e58a-4b14-833e-426cd3f292ef",
   "metadata": {},
   "outputs": [],
   "source": [
    "class VAgent():\n",
    "    def __init__(self, gamma=0.99):\n",
    "        "
   ]
  }
 ],
 "metadata": {
  "kernelspec": {
   "display_name": "Python 3 (ipykernel)",
   "language": "python",
   "name": "python3"
  },
  "language_info": {
   "codemirror_mode": {
    "name": "ipython",
    "version": 3
   },
   "file_extension": ".py",
   "mimetype": "text/x-python",
   "name": "python",
   "nbconvert_exporter": "python",
   "pygments_lexer": "ipython3",
   "version": "3.9.7"
  }
 },
 "nbformat": 4,
 "nbformat_minor": 5
}
