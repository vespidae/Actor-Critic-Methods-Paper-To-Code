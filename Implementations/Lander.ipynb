{
 "cells": [
  {
   "cell_type": "code",
   "execution_count": null,
   "id": "SBo3JYvjpby7",
   "metadata": {
    "colab": {
     "base_uri": "https://localhost:8080/"
    },
    "executionInfo": {
     "elapsed": 5783,
     "status": "ok",
     "timestamp": 1637282721211,
     "user": {
      "displayName": "",
      "photoUrl": "",
      "userId": ""
     },
     "user_tz": 300
    },
    "id": "SBo3JYvjpby7",
    "outputId": "eb7e533e-910a-4d35-c9cf-6feab605b4ee"
   },
   "outputs": [
    {
     "name": "stdout",
     "output_type": "stream",
     "text": [
      "Requirement already satisfied: box2d-py in /usr/local/lib/python3.7/dist-packages (2.3.8)\n",
      "Requirement already satisfied: gym[Box_2D] in /usr/local/lib/python3.7/dist-packages (0.17.3)\n",
      "\u001b[33mWARNING: gym 0.17.3 does not provide the extra 'box_2d'\u001b[0m\n",
      "Requirement already satisfied: pyglet<=1.5.0,>=1.4.0 in /usr/local/lib/python3.7/dist-packages (from gym[Box_2D]) (1.5.0)\n",
      "Requirement already satisfied: numpy>=1.10.4 in /usr/local/lib/python3.7/dist-packages (from gym[Box_2D]) (1.19.5)\n",
      "Requirement already satisfied: scipy in /usr/local/lib/python3.7/dist-packages (from gym[Box_2D]) (1.4.1)\n",
      "Requirement already satisfied: cloudpickle<1.7.0,>=1.2.0 in /usr/local/lib/python3.7/dist-packages (from gym[Box_2D]) (1.3.0)\n",
      "Requirement already satisfied: future in /usr/local/lib/python3.7/dist-packages (from pyglet<=1.5.0,>=1.4.0->gym[Box_2D]) (0.16.0)\n"
     ]
    }
   ],
   "source": [
    "!pip3 install box2d-py\n",
    "!pip3 install gym[Box_2D]"
   ]
  },
  {
   "cell_type": "code",
   "execution_count": null,
   "id": "3e524240-c789-447e-8c10-919b3dc66868",
   "metadata": {
    "id": "3e524240-c789-447e-8c10-919b3dc66868"
   },
   "outputs": [],
   "source": [
    "import gym"
   ]
  },
  {
   "cell_type": "markdown",
   "id": "XvKS59LGo6Dy",
   "metadata": {
    "id": "XvKS59LGo6Dy"
   },
   "source": [
    "env = gym.make('LunarLander-v2')\n",
    "\n",
    "n_games = 100\n",
    "\n",
    "for i in range(n_games):\n",
    "    obs_nul = env.reset()\n",
    "    score = 0\n",
    "    done = False\n",
    "    while not done:\n",
    "        action = env.action_space.sample()\n",
    "        obs_prime, reward, done, info = env.step(action)\n",
    "        score += reward\n",
    "        # env.render()\n",
    "    print(\"Episode: {}\\t Reward:{}\".format(i,score))"
   ]
  },
  {
   "cell_type": "code",
   "execution_count": null,
   "id": "6ec2dfe3-06e6-4453-bba3-c0e35cdf91dd",
   "metadata": {
    "id": "6ec2dfe3-06e6-4453-bba3-c0e35cdf91dd"
   },
   "outputs": [],
   "source": [
    "import numpy as np\n",
    "import torch\n",
    "import torch.nn as nn\n",
    "import torch.nn.functional as F\n",
    "import torch.optim as optim"
   ]
  },
  {
   "cell_type": "code",
   "execution_count": null,
   "id": "ae766996-acf7-41b2-8535-14b7b8e37798",
   "metadata": {
    "id": "ae766996-acf7-41b2-8535-14b7b8e37798"
   },
   "outputs": [],
   "source": [
    "class PolicyNetwork(nn.Module):\n",
    "    def __init__(self, lr, input_dims, n_actions):\n",
    "      super(PolicyNetwork, self).__init__()\n",
    "      self.fc1 = nn.Linear(*input_dims,128)"
   ]
  },
  {
   "cell_type": "code",
   "execution_count": null,
   "id": "-4nmIZ5H9UPv",
   "metadata": {
    "id": "-4nmIZ5H9UPv"
   },
   "outputs": [],
   "source": [
    "optimizer = nn.optimizer"
   ]
  }
 ],
 "metadata": {
  "colab": {
   "collapsed_sections": [],
   "name": "Copy of Lander.ipynb",
   "provenance": [
    {
     "file_id": "https://github.com/vespidae/Actor-Critic-Methods-Paper-To-Code/blob/master/Implementations/Lander.ipynb",
     "timestamp": 1637288647938
    }
   ]
  },
  "kernelspec": {
   "display_name": "Python 3",
   "language": "python",
   "name": "python3"
  },
  "language_info": {
   "codemirror_mode": {
    "name": "ipython",
    "version": 3
   },
   "file_extension": ".py",
   "mimetype": "text/x-python",
   "name": "python",
   "nbconvert_exporter": "python",
   "pygments_lexer": "ipython3",
   "version": "3.9.7"
  }
 },
 "nbformat": 4,
 "nbformat_minor": 5
}
