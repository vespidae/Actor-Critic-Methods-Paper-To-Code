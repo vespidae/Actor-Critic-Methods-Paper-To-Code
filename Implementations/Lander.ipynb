{
 "cells": [
  {
   "cell_type": "code",
   "execution_count": 1,
   "id": "SBo3JYvjpby7",
   "metadata": {
    "colab": {
     "base_uri": "https://localhost:8080/"
    },
    "executionInfo": {
     "elapsed": 5783,
     "status": "ok",
     "timestamp": 1637282721211,
     "user": {
      "displayName": "",
      "photoUrl": "",
      "userId": ""
     },
     "user_tz": 300
    },
    "id": "SBo3JYvjpby7",
    "outputId": "eb7e533e-910a-4d35-c9cf-6feab605b4ee"
   },
   "outputs": [
    {
     "name": "stdout",
     "output_type": "stream",
     "text": [
      "Requirement already satisfied: box2d-py in c:\\users\\francisn\\appdata\\roaming\\python\\python39\\site-packages (2.3.8)\n"
     ]
    },
    {
     "name": "stderr",
     "output_type": "stream",
     "text": [
      "WARNING: You are using pip version 21.3; however, version 21.3.1 is available.\n",
      "You should consider upgrading via the 'c:\\python39\\python.exe -m pip install --upgrade pip' command.\n"
     ]
    },
    {
     "name": "stdout",
     "output_type": "stream",
     "text": [
      "Requirement already satisfied: gym[Box_2D] in c:\\users\\francisn\\appdata\\roaming\\python\\python39\\site-packages (0.21.0)\n",
      "Requirement already satisfied: cloudpickle>=1.2.0 in c:\\python39\\lib\\site-packages (from gym[Box_2D]) (2.0.0)\n",
      "Requirement already satisfied: numpy>=1.18.0 in c:\\python39\\lib\\site-packages (from gym[Box_2D]) (1.21.2)\n"
     ]
    },
    {
     "name": "stderr",
     "output_type": "stream",
     "text": [
      "WARNING: gym 0.21.0 does not provide the extra 'box_2d'\n",
      "WARNING: You are using pip version 21.3; however, version 21.3.1 is available.\n",
      "You should consider upgrading via the 'c:\\python39\\python.exe -m pip install --upgrade pip' command.\n"
     ]
    }
   ],
   "source": [
    "!pip3 install box2d-py\n",
    "!pip3 install gym[Box_2D]"
   ]
  },
  {
   "cell_type": "code",
   "execution_count": 2,
   "id": "3e524240-c789-447e-8c10-919b3dc66868",
   "metadata": {
    "id": "3e524240-c789-447e-8c10-919b3dc66868"
   },
   "outputs": [
    {
     "name": "stderr",
     "output_type": "stream",
     "text": [
      "C:\\Python39\\lib\\site-packages\\numpy\\_distributor_init.py:30: UserWarning: loaded more than 1 DLL from .libs:\n",
      "C:\\Python39\\lib\\site-packages\\numpy\\.libs\\libopenblas.QVLO2T66WEPI7JZ63PS3HMOHFEY472BC.gfortran-win_amd64.dll\n",
      "C:\\Python39\\lib\\site-packages\\numpy\\.libs\\libopenblas.XWYDX2IKJW2NMTWSFYNGFUWKQU3LYTCZ.gfortran-win_amd64.dll\n",
      "  warnings.warn(\"loaded more than 1 DLL from .libs:\"\n"
     ]
    }
   ],
   "source": [
    "import gym"
   ]
  },
  {
   "cell_type": "markdown",
   "id": "XvKS59LGo6Dy",
   "metadata": {
    "id": "XvKS59LGo6Dy"
   },
   "source": [
    "env = gym.make('LunarLander-v2')\n",
    "\n",
    "n_games = 100\n",
    "\n",
    "for i in range(n_games):\n",
    "    obs_nul = env.reset()\n",
    "    score = 0\n",
    "    done = False\n",
    "    while not done:\n",
    "        action = env.action_space.sample()\n",
    "        obs_prime, reward, done, info = env.step(action)\n",
    "        score += reward\n",
    "        # env.render()\n",
    "    print(\"Episode: {}\\t Reward:{}\".format(i,score))"
   ]
  },
  {
   "cell_type": "code",
   "execution_count": 3,
   "id": "6ec2dfe3-06e6-4453-bba3-c0e35cdf91dd",
   "metadata": {
    "id": "6ec2dfe3-06e6-4453-bba3-c0e35cdf91dd"
   },
   "outputs": [],
   "source": [
    "import numpy as np\n",
    "import torch\n",
    "import torch.nn as nn\n",
    "import torch.nn.functional as F\n",
    "import torch.optim as optim"
   ]
  },
  {
   "cell_type": "code",
   "execution_count": null,
   "id": "ae766996-acf7-41b2-8535-14b7b8e37798",
   "metadata": {
    "id": "ae766996-acf7-41b2-8535-14b7b8e37798"
   },
   "outputs": [],
   "source": [
    "class PolicyNetwork(nn.Module):\n",
    "    def __init__(self, lr, input_dims, n_actions):\n",
    "        super(PolicyNetwork, self).__init__()\n",
    "        self.fc1 = nn.Linear(*input_dims,128)\n",
    "        self.fc1 = nn.Linear(128,128)\n",
    "        self.fc1 = nn.Linear(128,n_actions)\n",
    "        self.optimizer = optim.Adam(self.parameters(), lr=lr)\n",
    "        \n",
    "        self.device = torch.device('cuda:0' if torch.cuda.is_available() else 'cpu')\n",
    "        self.to(self.device)\n",
    "        \n",
    "    def forward(self, state):\n",
    "        x = F.relu(self.fc1(state))\n",
    "        x = F.relu(self.fc2(state))"
   ]
  },
  {
   "cell_type": "code",
   "execution_count": null,
   "id": "-4nmIZ5H9UPv",
   "metadata": {
    "id": "-4nmIZ5H9UPv"
   },
   "outputs": [],
   "source": [
    "optimizer = nn.optimizer"
   ]
  }
 ],
 "metadata": {
  "colab": {
   "collapsed_sections": [],
   "name": "Copy of Lander.ipynb",
   "provenance": [
    {
     "file_id": "https://github.com/vespidae/Actor-Critic-Methods-Paper-To-Code/blob/master/Implementations/Lander.ipynb",
     "timestamp": 1637288647938
    }
   ]
  },
  "kernelspec": {
   "display_name": "Python 3 (ipykernel)",
   "language": "python",
   "name": "python3"
  },
  "language_info": {
   "codemirror_mode": {
    "name": "ipython",
    "version": 3
   },
   "file_extension": ".py",
   "mimetype": "text/x-python",
   "name": "python",
   "nbconvert_exporter": "python",
   "pygments_lexer": "ipython3",
   "version": "3.9.7"
  }
 },
 "nbformat": 4,
 "nbformat_minor": 5
}
