{
 "cells": [
  {
   "cell_type": "code",
   "execution_count": 2,
   "id": "33c05006-555a-4363-83ef-f4d0bfb6169d",
   "metadata": {},
   "outputs": [
    {
     "name": "stdout",
     "output_type": "stream",
     "text": [
      "tensor([2.2000, 4.0000])\n"
     ]
    }
   ],
   "source": [
    "import torch\n",
    "from torch import nn\n",
    "\n",
    "m = torch.Tensor([2.2,4.0],)\n",
    "print(m)"
   ]
  },
  {
   "cell_type": "code",
   "execution_count": 2,
   "id": "d1e3e4e6-f2b5-4ec9-9ee9-d9ea9370e3d0",
   "metadata": {},
   "outputs": [],
   "source": [
    "## Initialize policy to be evaluated\n",
    "class agent():\n",
    "    def __init__(self):\n",
    "        self.q = 0\n",
    "        self.states = [0]\n",
    "        self.actions = [0]\n",
    "        \n",
    "    def compute_value(state):\n",
    "        \n",
    "        \n",
    "    def compute_action_value(state):\n",
    "        \n",
    "        \n",
    "    def predict(state, action):\n",
    "        q = state * action\n",
    "        return q"
   ]
  },
  {
   "cell_type": "code",
   "execution_count": 4,
   "id": "27670a91-3b85-49ef-8f0d-4d5260219295",
   "metadata": {},
   "outputs": [],
   "source": [
    "## Initialize value function arbitrarily\n",
    "# def calculate_episode_return(q,gamma,discount_reward,t):\n",
    "#     t += 1\n",
    "#     episode_return = q + (gamma**t * discount_reward)\n",
    "#     return episode_return\n",
    "def calculate_episode_return(q,gamma,n,t=0):\n",
    "    episode_return = if (t != n) q[t+1] + (gamma**t)*(calculate_episode_return(q,gamma,n,t+1)) else 0\n",
    "    return episode_return"
   ]
  },
  {
   "cell_type": "code",
   "execution_count": null,
   "id": "e6b0d2da-60fd-4ca7-9fdb-a02912432ab6",
   "metadata": {},
   "outputs": [],
   "source": []
  }
 ],
 "metadata": {
  "kernelspec": {
   "display_name": "Python 3 (ipykernel)",
   "language": "python",
   "name": "python3"
  },
  "language_info": {
   "codemirror_mode": {
    "name": "ipython",
    "version": 3
   },
   "file_extension": ".py",
   "mimetype": "text/x-python",
   "name": "python",
   "nbconvert_exporter": "python",
   "pygments_lexer": "ipython3",
   "version": "3.9.7"
  }
 },
 "nbformat": 4,
 "nbformat_minor": 5
}
